{
 "cells": [
  {
   "cell_type": "markdown",
   "metadata": {},
   "source": [
    "# Soma Ingredientes"
   ]
  },
  {
   "cell_type": "code",
   "execution_count": 2,
   "metadata": {},
   "outputs": [],
   "source": [
    "# Importações\n",
    "import sys"
   ]
  },
  {
   "cell_type": "code",
   "execution_count": 3,
   "metadata": {},
   "outputs": [],
   "source": [
    "# Declaração de funções\n",
    "preco_cenoura = 4.5\n",
    "preco_oleo = 12\n",
    "preco_fermento = 15\n",
    "preco_leite = 5\n",
    "preco_acucar = 6\n",
    "preco_ovos = 12"
   ]
  },
  {
   "cell_type": "code",
   "execution_count": 4,
   "metadata": {},
   "outputs": [],
   "source": [
    "def soma_ingrediente (tem_cenoura, tem_oleo, tem_acucar, tem_ovos, tem_fermento, tem_leite):\n",
    "\ttotal_compra = 0\n",
    "\tif tem_cenoura:\n",
    "\t\ttotal_compra += preco_cenoura\n",
    "\tif tem_acucar:\n",
    "\t\ttotal_compra += preco_acucar\n",
    "\tif tem_ovos:\n",
    "\t\ttotal_compra += preco_ovos\n",
    "\tif tem_oleo:\n",
    "\t\ttotal_compra += preco_oleo\n",
    "\tif tem_fermento:\n",
    "\t\ttotal_compra += preco_fermento\n",
    "\tif tem_leite:\n",
    "\t\ttotal_compra += preco_leite\n",
    "\treturn total_compra"
   ]
  },
  {
   "cell_type": "code",
   "execution_count": 8,
   "metadata": {},
   "outputs": [
    {
     "name": "stdout",
     "output_type": "stream",
     "text": [
      "Total dos ingredientes:  58\n"
     ]
    }
   ],
   "source": [
    "terminal_tem_cenoura = True\n",
    "terminal_tem_oleo = True\n",
    "terminal_tem_acucar= True\n",
    "terminal_tem_ovos= True\n",
    "terminal_tem_fermento= True\n",
    "terminal_tem_leite = True\n",
    "\n",
    "total = soma_ingrediente(terminal_tem_cenoura, terminal_tem_oleo, terminal_tem_acucar, terminal_tem_ovos, terminal_tem_fermento, terminal_tem_leite)\n",
    "\n",
    "print(\"Total dos ingredientes: \",total)"
   ]
  },
  {
   "cell_type": "code",
   "execution_count": 7,
   "metadata": {},
   "outputs": [],
   "source": [
    "preco_cenoura = 8"
   ]
  },
  {
   "cell_type": "code",
   "execution_count": null,
   "metadata": {},
   "outputs": [],
   "source": []
  }
 ],
 "metadata": {
  "kernelspec": {
   "display_name": "Python 3",
   "language": "python",
   "name": "python3"
  },
  "language_info": {
   "codemirror_mode": {
    "name": "ipython",
    "version": 3
   },
   "file_extension": ".py",
   "mimetype": "text/x-python",
   "name": "python",
   "nbconvert_exporter": "python",
   "pygments_lexer": "ipython3",
   "version": "3.11.9"
  }
 },
 "nbformat": 4,
 "nbformat_minor": 2
}
